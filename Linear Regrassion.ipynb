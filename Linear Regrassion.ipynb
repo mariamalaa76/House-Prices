{
 "cells": [
  {
   "cell_type": "code",
   "execution_count": 1,
   "metadata": {},
   "outputs": [],
   "source": [
    "import numpy as np \n",
    "import pandas as pd\n",
    "import matplotlib.pyplot as plt\n",
    "from sklearn.preprocessing import MinMaxScaler"
   ]
  },
  {
   "cell_type": "code",
   "execution_count": 2,
   "metadata": {},
   "outputs": [],
   "source": [
    "Training_Data = pd.read_csv(\"C:\\Training Data.csv\")\n",
    "Testing_Data = pd.read_csv(\"C:\\Testing Data.csv\")"
   ]
  },
  {
   "cell_type": "code",
   "execution_count": 5,
   "metadata": {},
   "outputs": [
    {
     "data": {
      "text/html": [
       "<div>\n",
       "<style scoped>\n",
       "    .dataframe tbody tr th:only-of-type {\n",
       "        vertical-align: middle;\n",
       "    }\n",
       "\n",
       "    .dataframe tbody tr th {\n",
       "        vertical-align: top;\n",
       "    }\n",
       "\n",
       "    .dataframe thead th {\n",
       "        text-align: right;\n",
       "    }\n",
       "</style>\n",
       "<table border=\"1\" class=\"dataframe\">\n",
       "  <thead>\n",
       "    <tr style=\"text-align: right;\">\n",
       "      <th></th>\n",
       "      <th>HouseID</th>\n",
       "      <th>longitude</th>\n",
       "      <th>latitude</th>\n",
       "      <th>housing_median_age</th>\n",
       "      <th>total_rooms</th>\n",
       "      <th>total_bedrooms</th>\n",
       "      <th>population</th>\n",
       "      <th>households</th>\n",
       "      <th>house_value</th>\n",
       "    </tr>\n",
       "  </thead>\n",
       "  <tbody>\n",
       "    <tr>\n",
       "      <th>0</th>\n",
       "      <td>0</td>\n",
       "      <td>-122.23</td>\n",
       "      <td>37.88</td>\n",
       "      <td>41</td>\n",
       "      <td>880</td>\n",
       "      <td>129.0</td>\n",
       "      <td>322</td>\n",
       "      <td>126</td>\n",
       "      <td>452600</td>\n",
       "    </tr>\n",
       "    <tr>\n",
       "      <th>1</th>\n",
       "      <td>1</td>\n",
       "      <td>-122.22</td>\n",
       "      <td>37.86</td>\n",
       "      <td>21</td>\n",
       "      <td>7099</td>\n",
       "      <td>1106.0</td>\n",
       "      <td>2401</td>\n",
       "      <td>1138</td>\n",
       "      <td>358500</td>\n",
       "    </tr>\n",
       "    <tr>\n",
       "      <th>2</th>\n",
       "      <td>2</td>\n",
       "      <td>-122.24</td>\n",
       "      <td>37.85</td>\n",
       "      <td>52</td>\n",
       "      <td>1467</td>\n",
       "      <td>190.0</td>\n",
       "      <td>496</td>\n",
       "      <td>177</td>\n",
       "      <td>352100</td>\n",
       "    </tr>\n",
       "    <tr>\n",
       "      <th>3</th>\n",
       "      <td>3</td>\n",
       "      <td>-122.25</td>\n",
       "      <td>37.85</td>\n",
       "      <td>52</td>\n",
       "      <td>1274</td>\n",
       "      <td>235.0</td>\n",
       "      <td>558</td>\n",
       "      <td>219</td>\n",
       "      <td>341300</td>\n",
       "    </tr>\n",
       "    <tr>\n",
       "      <th>4</th>\n",
       "      <td>4</td>\n",
       "      <td>-122.25</td>\n",
       "      <td>37.85</td>\n",
       "      <td>52</td>\n",
       "      <td>1627</td>\n",
       "      <td>280.0</td>\n",
       "      <td>565</td>\n",
       "      <td>259</td>\n",
       "      <td>342200</td>\n",
       "    </tr>\n",
       "  </tbody>\n",
       "</table>\n",
       "</div>"
      ],
      "text/plain": [
       "   HouseID  longitude  latitude  housing_median_age  total_rooms  \\\n",
       "0        0    -122.23     37.88                  41          880   \n",
       "1        1    -122.22     37.86                  21         7099   \n",
       "2        2    -122.24     37.85                  52         1467   \n",
       "3        3    -122.25     37.85                  52         1274   \n",
       "4        4    -122.25     37.85                  52         1627   \n",
       "\n",
       "   total_bedrooms  population  households  house_value  \n",
       "0           129.0         322         126       452600  \n",
       "1          1106.0        2401        1138       358500  \n",
       "2           190.0         496         177       352100  \n",
       "3           235.0         558         219       341300  \n",
       "4           280.0         565         259       342200  "
      ]
     },
     "execution_count": 5,
     "metadata": {},
     "output_type": "execute_result"
    }
   ],
   "source": [
    "Training_Data.head()"
   ]
  },
  {
   "cell_type": "code",
   "execution_count": 6,
   "metadata": {},
   "outputs": [
    {
     "data": {
      "text/html": [
       "<div>\n",
       "<style scoped>\n",
       "    .dataframe tbody tr th:only-of-type {\n",
       "        vertical-align: middle;\n",
       "    }\n",
       "\n",
       "    .dataframe tbody tr th {\n",
       "        vertical-align: top;\n",
       "    }\n",
       "\n",
       "    .dataframe thead th {\n",
       "        text-align: right;\n",
       "    }\n",
       "</style>\n",
       "<table border=\"1\" class=\"dataframe\">\n",
       "  <thead>\n",
       "    <tr style=\"text-align: right;\">\n",
       "      <th></th>\n",
       "      <th>HouseID</th>\n",
       "      <th>longitude</th>\n",
       "      <th>latitude</th>\n",
       "      <th>housing_median_age</th>\n",
       "      <th>total_rooms</th>\n",
       "      <th>total_bedrooms</th>\n",
       "      <th>population</th>\n",
       "      <th>households</th>\n",
       "    </tr>\n",
       "  </thead>\n",
       "  <tbody>\n",
       "    <tr>\n",
       "      <th>0</th>\n",
       "      <td>17000</td>\n",
       "      <td>-122.26</td>\n",
       "      <td>37.56</td>\n",
       "      <td>23</td>\n",
       "      <td>7283</td>\n",
       "      <td>1342.0</td>\n",
       "      <td>3399</td>\n",
       "      <td>1298</td>\n",
       "    </tr>\n",
       "    <tr>\n",
       "      <th>1</th>\n",
       "      <td>17001</td>\n",
       "      <td>-122.26</td>\n",
       "      <td>37.57</td>\n",
       "      <td>23</td>\n",
       "      <td>7995</td>\n",
       "      <td>1254.0</td>\n",
       "      <td>3484</td>\n",
       "      <td>1198</td>\n",
       "    </tr>\n",
       "    <tr>\n",
       "      <th>2</th>\n",
       "      <td>17002</td>\n",
       "      <td>-122.25</td>\n",
       "      <td>37.56</td>\n",
       "      <td>19</td>\n",
       "      <td>7976</td>\n",
       "      <td>1406.0</td>\n",
       "      <td>3437</td>\n",
       "      <td>1338</td>\n",
       "    </tr>\n",
       "    <tr>\n",
       "      <th>3</th>\n",
       "      <td>17003</td>\n",
       "      <td>-122.29</td>\n",
       "      <td>37.55</td>\n",
       "      <td>27</td>\n",
       "      <td>3789</td>\n",
       "      <td>874.0</td>\n",
       "      <td>2243</td>\n",
       "      <td>866</td>\n",
       "    </tr>\n",
       "    <tr>\n",
       "      <th>4</th>\n",
       "      <td>17004</td>\n",
       "      <td>-122.28</td>\n",
       "      <td>37.54</td>\n",
       "      <td>24</td>\n",
       "      <td>5114</td>\n",
       "      <td>1357.0</td>\n",
       "      <td>3169</td>\n",
       "      <td>1268</td>\n",
       "    </tr>\n",
       "  </tbody>\n",
       "</table>\n",
       "</div>"
      ],
      "text/plain": [
       "   HouseID  longitude  latitude  housing_median_age  total_rooms  \\\n",
       "0    17000    -122.26     37.56                  23         7283   \n",
       "1    17001    -122.26     37.57                  23         7995   \n",
       "2    17002    -122.25     37.56                  19         7976   \n",
       "3    17003    -122.29     37.55                  27         3789   \n",
       "4    17004    -122.28     37.54                  24         5114   \n",
       "\n",
       "   total_bedrooms  population  households  \n",
       "0          1342.0        3399        1298  \n",
       "1          1254.0        3484        1198  \n",
       "2          1406.0        3437        1338  \n",
       "3           874.0        2243         866  \n",
       "4          1357.0        3169        1268  "
      ]
     },
     "execution_count": 6,
     "metadata": {},
     "output_type": "execute_result"
    }
   ],
   "source": [
    "Testing_Data.head()"
   ]
  },
  {
   "cell_type": "code",
   "execution_count": 7,
   "metadata": {},
   "outputs": [
    {
     "name": "stdout",
     "output_type": "stream",
     "text": [
      "<class 'pandas.core.frame.DataFrame'>\n",
      "RangeIndex: 3640 entries, 0 to 3639\n",
      "Data columns (total 8 columns):\n",
      " #   Column              Non-Null Count  Dtype  \n",
      "---  ------              --------------  -----  \n",
      " 0   HouseID             3640 non-null   int64  \n",
      " 1   longitude           3640 non-null   float64\n",
      " 2   latitude            3640 non-null   float64\n",
      " 3   housing_median_age  3640 non-null   int64  \n",
      " 4   total_rooms         3640 non-null   int64  \n",
      " 5   total_bedrooms      3596 non-null   float64\n",
      " 6   population          3640 non-null   int64  \n",
      " 7   households          3640 non-null   int64  \n",
      "dtypes: float64(3), int64(5)\n",
      "memory usage: 227.6 KB\n"
     ]
    }
   ],
   "source": [
    "Testing_Data.info()"
   ]
  },
  {
   "cell_type": "code",
   "execution_count": 8,
   "metadata": {},
   "outputs": [
    {
     "data": {
      "text/plain": [
       "HouseID                 0\n",
       "longitude               0\n",
       "latitude                0\n",
       "housing_median_age      0\n",
       "total_rooms             0\n",
       "total_bedrooms        163\n",
       "population              0\n",
       "households              0\n",
       "house_value             0\n",
       "dtype: int64"
      ]
     },
     "execution_count": 8,
     "metadata": {},
     "output_type": "execute_result"
    }
   ],
   "source": [
    "Training_Data.isnull().sum()"
   ]
  },
  {
   "cell_type": "code",
   "execution_count": 9,
   "metadata": {},
   "outputs": [
    {
     "data": {
      "text/plain": [
       "HouseID                0\n",
       "longitude              0\n",
       "latitude               0\n",
       "housing_median_age     0\n",
       "total_rooms            0\n",
       "total_bedrooms        44\n",
       "population             0\n",
       "households             0\n",
       "dtype: int64"
      ]
     },
     "execution_count": 9,
     "metadata": {},
     "output_type": "execute_result"
    }
   ],
   "source": [
    "Testing_Data.isnull().sum()"
   ]
  },
  {
   "cell_type": "code",
   "execution_count": 10,
   "metadata": {},
   "outputs": [],
   "source": [
    "Testing_Data.dropna(subset=['total_bedrooms'],axis=0,inplace=True)\n",
    "Training_Data.dropna(subset=['total_bedrooms'],axis=0,inplace=True)"
   ]
  },
  {
   "cell_type": "code",
   "execution_count": 11,
   "metadata": {},
   "outputs": [
    {
     "name": "stdout",
     "output_type": "stream",
     "text": [
      "HouseID               0\n",
      "longitude             0\n",
      "latitude              0\n",
      "housing_median_age    0\n",
      "total_rooms           0\n",
      "total_bedrooms        0\n",
      "population            0\n",
      "households            0\n",
      "house_value           0\n",
      "dtype: int64\n",
      "========================================\n",
      "HouseID               0\n",
      "longitude             0\n",
      "latitude              0\n",
      "housing_median_age    0\n",
      "total_rooms           0\n",
      "total_bedrooms        0\n",
      "population            0\n",
      "households            0\n",
      "dtype: int64\n"
     ]
    }
   ],
   "source": [
    "print(Training_Data.isnull().sum())\n",
    "print(\"========================================\")\n",
    "print(Testing_Data.isnull().sum())"
   ]
  },
  {
   "cell_type": "code",
   "execution_count": 12,
   "metadata": {},
   "outputs": [
    {
     "data": {
      "text/html": [
       "<div>\n",
       "<style scoped>\n",
       "    .dataframe tbody tr th:only-of-type {\n",
       "        vertical-align: middle;\n",
       "    }\n",
       "\n",
       "    .dataframe tbody tr th {\n",
       "        vertical-align: top;\n",
       "    }\n",
       "\n",
       "    .dataframe thead th {\n",
       "        text-align: right;\n",
       "    }\n",
       "</style>\n",
       "<table border=\"1\" class=\"dataframe\">\n",
       "  <thead>\n",
       "    <tr style=\"text-align: right;\">\n",
       "      <th></th>\n",
       "      <th>HouseID</th>\n",
       "      <th>longitude</th>\n",
       "      <th>latitude</th>\n",
       "      <th>housing_median_age</th>\n",
       "      <th>total_rooms</th>\n",
       "      <th>total_bedrooms</th>\n",
       "      <th>population</th>\n",
       "      <th>households</th>\n",
       "      <th>house_value</th>\n",
       "    </tr>\n",
       "  </thead>\n",
       "  <tbody>\n",
       "    <tr>\n",
       "      <th>HouseID</th>\n",
       "      <td>1.000000</td>\n",
       "      <td>0.209626</td>\n",
       "      <td>-0.208360</td>\n",
       "      <td>-0.156459</td>\n",
       "      <td>0.094329</td>\n",
       "      <td>0.078303</td>\n",
       "      <td>0.059578</td>\n",
       "      <td>0.070050</td>\n",
       "      <td>0.075412</td>\n",
       "    </tr>\n",
       "    <tr>\n",
       "      <th>longitude</th>\n",
       "      <td>0.209626</td>\n",
       "      <td>1.000000</td>\n",
       "      <td>-0.932120</td>\n",
       "      <td>-0.172949</td>\n",
       "      <td>0.053373</td>\n",
       "      <td>0.070707</td>\n",
       "      <td>0.106608</td>\n",
       "      <td>0.058699</td>\n",
       "      <td>-0.012901</td>\n",
       "    </tr>\n",
       "    <tr>\n",
       "      <th>latitude</th>\n",
       "      <td>-0.208360</td>\n",
       "      <td>-0.932120</td>\n",
       "      <td>1.000000</td>\n",
       "      <td>0.056482</td>\n",
       "      <td>-0.036385</td>\n",
       "      <td>-0.064448</td>\n",
       "      <td>-0.111222</td>\n",
       "      <td>-0.071266</td>\n",
       "      <td>-0.152364</td>\n",
       "    </tr>\n",
       "    <tr>\n",
       "      <th>housing_median_age</th>\n",
       "      <td>-0.156459</td>\n",
       "      <td>-0.172949</td>\n",
       "      <td>0.056482</td>\n",
       "      <td>1.000000</td>\n",
       "      <td>-0.368849</td>\n",
       "      <td>-0.330689</td>\n",
       "      <td>-0.302214</td>\n",
       "      <td>-0.310082</td>\n",
       "      <td>0.121517</td>\n",
       "    </tr>\n",
       "    <tr>\n",
       "      <th>total_rooms</th>\n",
       "      <td>0.094329</td>\n",
       "      <td>0.053373</td>\n",
       "      <td>-0.036385</td>\n",
       "      <td>-0.368849</td>\n",
       "      <td>1.000000</td>\n",
       "      <td>0.929769</td>\n",
       "      <td>0.854816</td>\n",
       "      <td>0.917098</td>\n",
       "      <td>0.133852</td>\n",
       "    </tr>\n",
       "    <tr>\n",
       "      <th>total_bedrooms</th>\n",
       "      <td>0.078303</td>\n",
       "      <td>0.070707</td>\n",
       "      <td>-0.064448</td>\n",
       "      <td>-0.330689</td>\n",
       "      <td>0.929769</td>\n",
       "      <td>1.000000</td>\n",
       "      <td>0.876121</td>\n",
       "      <td>0.979063</td>\n",
       "      <td>0.056415</td>\n",
       "    </tr>\n",
       "    <tr>\n",
       "      <th>population</th>\n",
       "      <td>0.059578</td>\n",
       "      <td>0.106608</td>\n",
       "      <td>-0.111222</td>\n",
       "      <td>-0.302214</td>\n",
       "      <td>0.854816</td>\n",
       "      <td>0.876121</td>\n",
       "      <td>1.000000</td>\n",
       "      <td>0.906503</td>\n",
       "      <td>-0.026945</td>\n",
       "    </tr>\n",
       "    <tr>\n",
       "      <th>households</th>\n",
       "      <td>0.070050</td>\n",
       "      <td>0.058699</td>\n",
       "      <td>-0.071266</td>\n",
       "      <td>-0.310082</td>\n",
       "      <td>0.917098</td>\n",
       "      <td>0.979063</td>\n",
       "      <td>0.906503</td>\n",
       "      <td>1.000000</td>\n",
       "      <td>0.071321</td>\n",
       "    </tr>\n",
       "    <tr>\n",
       "      <th>house_value</th>\n",
       "      <td>0.075412</td>\n",
       "      <td>-0.012901</td>\n",
       "      <td>-0.152364</td>\n",
       "      <td>0.121517</td>\n",
       "      <td>0.133852</td>\n",
       "      <td>0.056415</td>\n",
       "      <td>-0.026945</td>\n",
       "      <td>0.071321</td>\n",
       "      <td>1.000000</td>\n",
       "    </tr>\n",
       "  </tbody>\n",
       "</table>\n",
       "</div>"
      ],
      "text/plain": [
       "                     HouseID  longitude  latitude  housing_median_age  \\\n",
       "HouseID             1.000000   0.209626 -0.208360           -0.156459   \n",
       "longitude           0.209626   1.000000 -0.932120           -0.172949   \n",
       "latitude           -0.208360  -0.932120  1.000000            0.056482   \n",
       "housing_median_age -0.156459  -0.172949  0.056482            1.000000   \n",
       "total_rooms         0.094329   0.053373 -0.036385           -0.368849   \n",
       "total_bedrooms      0.078303   0.070707 -0.064448           -0.330689   \n",
       "population          0.059578   0.106608 -0.111222           -0.302214   \n",
       "households          0.070050   0.058699 -0.071266           -0.310082   \n",
       "house_value         0.075412  -0.012901 -0.152364            0.121517   \n",
       "\n",
       "                    total_rooms  total_bedrooms  population  households  \\\n",
       "HouseID                0.094329        0.078303    0.059578    0.070050   \n",
       "longitude              0.053373        0.070707    0.106608    0.058699   \n",
       "latitude              -0.036385       -0.064448   -0.111222   -0.071266   \n",
       "housing_median_age    -0.368849       -0.330689   -0.302214   -0.310082   \n",
       "total_rooms            1.000000        0.929769    0.854816    0.917098   \n",
       "total_bedrooms         0.929769        1.000000    0.876121    0.979063   \n",
       "population             0.854816        0.876121    1.000000    0.906503   \n",
       "households             0.917098        0.979063    0.906503    1.000000   \n",
       "house_value            0.133852        0.056415   -0.026945    0.071321   \n",
       "\n",
       "                    house_value  \n",
       "HouseID                0.075412  \n",
       "longitude             -0.012901  \n",
       "latitude              -0.152364  \n",
       "housing_median_age     0.121517  \n",
       "total_rooms            0.133852  \n",
       "total_bedrooms         0.056415  \n",
       "population            -0.026945  \n",
       "households             0.071321  \n",
       "house_value            1.000000  "
      ]
     },
     "execution_count": 12,
     "metadata": {},
     "output_type": "execute_result"
    }
   ],
   "source": [
    "Training_Data.corr()"
   ]
  },
  {
   "cell_type": "code",
   "execution_count": 13,
   "metadata": {},
   "outputs": [],
   "source": [
    "Testing_Data.drop(['HouseID'],axis=1,inplace=True)\n",
    "Training_Data.drop(['HouseID'],axis=1,inplace=True)\n",
    "scaler = MinMaxScaler()\n",
    "Training_Data = pd.DataFrame(scaler.fit_transform(Training_Data), columns=Training_Data.columns)\n",
    "Testing_Data = pd.DataFrame(scaler.fit_transform(Testing_Data), columns=Testing_Data.columns)"
   ]
  },
  {
   "cell_type": "code",
   "execution_count": 14,
   "metadata": {},
   "outputs": [
    {
     "name": "stdout",
     "output_type": "stream",
     "text": [
      "(16837, 7)\n",
      "(16837, 1)\n",
      "(3596, 7)\n"
     ]
    }
   ],
   "source": [
    "x_train = np.array(Training_Data.iloc[:,0:len(Training_Data.iloc[0,:]) - 1])\n",
    "y_train = np.array(Training_Data.iloc[:,-1])\n",
    "y_train = y_train.reshape(y_train.shape[0], 1)\n",
    "x_test = np.array(Testing_Data)\n",
    "\n",
    "print(x_train.shape)\n",
    "print(y_train.shape)\n",
    "print(x_test.shape)"
   ]
  },
  {
   "cell_type": "code",
   "execution_count": 86,
   "metadata": {},
   "outputs": [
    {
     "name": "stdout",
     "output_type": "stream",
     "text": [
      "Number of training examples is:  16837\n"
     ]
    }
   ],
   "source": [
    "alpha = 0.1\n",
    "num_of_iterations = 10000\n",
    "m = int(x_train.shape[0])\n",
    "\n",
    "print(\"Number of training examples is: \" , m)"
   ]
  },
  {
   "cell_type": "code",
   "execution_count": 87,
   "metadata": {},
   "outputs": [
    {
     "name": "stdout",
     "output_type": "stream",
     "text": [
      "(7, 1)\n"
     ]
    }
   ],
   "source": [
    "w = np.random.rand(7,1)\n",
    "b = np.random.rand(1)\n",
    "print(w.shape)\n",
    "assert(w.shape == (7,1))"
   ]
  },
  {
   "cell_type": "code",
   "execution_count": 88,
   "metadata": {},
   "outputs": [
    {
     "data": {
      "text/plain": [
       "(16837, 1)"
      ]
     },
     "execution_count": 88,
     "metadata": {},
     "output_type": "execute_result"
    }
   ],
   "source": [
    "def Predictive_Line(X,w,b):\n",
    "  Predictions = np.dot(X,w) + b \n",
    "  return Predictions\n",
    "Predictive_Line(x_train,w,b).shape"
   ]
  },
  {
   "cell_type": "code",
   "execution_count": 89,
   "metadata": {},
   "outputs": [],
   "source": [
    "def Calculate_Cost(X, w, b, Y, m):\n",
    "    prediction = Predictive_Line(X,w,b)\n",
    "    diffsq = np.power((prediction - Y),2)\n",
    "    j = np.sum(diffsq)/(2*m)\n",
    "    return j "
   ]
  },
  {
   "cell_type": "code",
   "execution_count": 90,
   "metadata": {},
   "outputs": [],
   "source": [
    "def Gradient_Descent(X, Y, w,b, alpha, num_iters, m):\n",
    "  for i in range(num_iters):\n",
    "     Predictions = Predictive_Line(X,w,b)\n",
    "     err = Predictions - Y\n",
    "     dw = (1/m)*(np.sum(err*X,axis=0).reshape(7,1))\n",
    "     db = np.sum(err)/m\n",
    "     w = w - alpha*dw\n",
    "     b = b - alpha*db\n",
    "  return w,b"
   ]
  },
  {
   "cell_type": "code",
   "execution_count": 91,
   "metadata": {},
   "outputs": [
    {
     "name": "stdout",
     "output_type": "stream",
     "text": [
      "w: [[-1.10742665]\n",
      " [-1.05486128]\n",
      " [ 0.06494415]\n",
      " [ 0.75602239]\n",
      " [-0.029616  ]\n",
      " [-0.00598027]\n",
      " [-0.24284399]]\n",
      "b [1.20260284]\n",
      "train accuracy: 84.16206004378087 %\n"
     ]
    }
   ],
   "source": [
    "w,b = Gradient_Descent(x_train, y_train, w,b, alpha, num_of_iterations, m)\n",
    "y_train_predicted = Predictive_Line(x_train, w,b)\n",
    "y_test = Predictive_Line(x_test, w,b)\n",
    "\n",
    "print(\"w:\",w)\n",
    "print(\"b\",b)\n",
    "print(\"train accuracy: {} %\" .format(100 - np.mean(np.abs(y_train_predicted-y_train))*100))"
   ]
  }
 ],
 "metadata": {
  "kernelspec": {
   "display_name": "Python 3",
   "language": "python",
   "name": "python3"
  },
  "language_info": {
   "codemirror_mode": {
    "name": "ipython",
    "version": 3
   },
   "file_extension": ".py",
   "mimetype": "text/x-python",
   "name": "python",
   "nbconvert_exporter": "python",
   "pygments_lexer": "ipython3",
   "version": "3.11.2"
  },
  "orig_nbformat": 4
 },
 "nbformat": 4,
 "nbformat_minor": 2
}
